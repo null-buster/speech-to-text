{
  "nbformat": 4,
  "nbformat_minor": 0,
  "metadata": {
    "colab": {
      "name": "Speaker Diarization.ipynb",
      "provenance": [],
      "collapsed_sections": [],
      "authorship_tag": "ABX9TyOJP+sF559UE2HD/WyOFlyz",
      "include_colab_link": true
    },
    "kernelspec": {
      "name": "python3",
      "display_name": "Python 3"
    }
  },
  "cells": [
    {
      "cell_type": "markdown",
      "metadata": {
        "id": "view-in-github",
        "colab_type": "text"
      },
      "source": [
        "<a href=\"https://colab.research.google.com/github/null-buster/speech-to-text/blob/main/Speaker_Diarization.ipynb\" target=\"_parent\"><img src=\"https://colab.research.google.com/assets/colab-badge.svg\" alt=\"Open In Colab\"/></a>"
      ]
    },
    {
      "cell_type": "code",
      "metadata": {
        "colab": {
          "base_uri": "https://localhost:8080/"
        },
        "id": "Yr403FGnmosW",
        "outputId": "e7ccfb45-1085-4e0a-cefd-7deed02b8947"
      },
      "source": [
        "!pip install Resemblyzer\r\n"
      ],
      "execution_count": null,
      "outputs": [
        {
          "output_type": "stream",
          "text": [
            "Requirement already satisfied: Resemblyzer in /usr/local/lib/python3.6/dist-packages (0.1.1.dev0)\n",
            "Requirement already satisfied: torch>=1.0.1 in /usr/local/lib/python3.6/dist-packages (from Resemblyzer) (1.7.0+cu101)\n",
            "Requirement already satisfied: scipy>=1.2.1 in /usr/local/lib/python3.6/dist-packages (from Resemblyzer) (1.4.1)\n",
            "Requirement already satisfied: typing in /usr/local/lib/python3.6/dist-packages (from Resemblyzer) (3.7.4.3)\n",
            "Requirement already satisfied: numpy>=1.10.1 in /usr/local/lib/python3.6/dist-packages (from Resemblyzer) (1.19.5)\n",
            "Requirement already satisfied: librosa>=0.6.1 in /usr/local/lib/python3.6/dist-packages (from Resemblyzer) (0.6.3)\n",
            "Requirement already satisfied: webrtcvad>=2.0.10 in /usr/local/lib/python3.6/dist-packages (from Resemblyzer) (2.0.10)\n",
            "Requirement already satisfied: future in /usr/local/lib/python3.6/dist-packages (from torch>=1.0.1->Resemblyzer) (0.16.0)\n",
            "Requirement already satisfied: dataclasses in /usr/local/lib/python3.6/dist-packages (from torch>=1.0.1->Resemblyzer) (0.8)\n",
            "Requirement already satisfied: typing-extensions in /usr/local/lib/python3.6/dist-packages (from torch>=1.0.1->Resemblyzer) (3.7.4.3)\n",
            "Requirement already satisfied: decorator>=3.0.0 in /usr/local/lib/python3.6/dist-packages (from librosa>=0.6.1->Resemblyzer) (4.4.2)\n",
            "Requirement already satisfied: audioread>=2.0.0 in /usr/local/lib/python3.6/dist-packages (from librosa>=0.6.1->Resemblyzer) (2.1.9)\n",
            "Requirement already satisfied: numba>=0.38.0 in /usr/local/lib/python3.6/dist-packages (from librosa>=0.6.1->Resemblyzer) (0.48.0)\n",
            "Requirement already satisfied: resampy>=0.2.0 in /usr/local/lib/python3.6/dist-packages (from librosa>=0.6.1->Resemblyzer) (0.2.2)\n",
            "Requirement already satisfied: joblib>=0.12 in /usr/local/lib/python3.6/dist-packages (from librosa>=0.6.1->Resemblyzer) (1.0.0)\n",
            "Requirement already satisfied: scikit-learn!=0.19.0,>=0.14.0 in /usr/local/lib/python3.6/dist-packages (from librosa>=0.6.1->Resemblyzer) (0.22.2.post1)\n",
            "Requirement already satisfied: six>=1.3 in /usr/local/lib/python3.6/dist-packages (from librosa>=0.6.1->Resemblyzer) (1.15.0)\n",
            "Requirement already satisfied: setuptools in /usr/local/lib/python3.6/dist-packages (from numba>=0.38.0->librosa>=0.6.1->Resemblyzer) (51.1.1)\n",
            "Requirement already satisfied: llvmlite<0.32.0,>=0.31.0dev0 in /usr/local/lib/python3.6/dist-packages (from numba>=0.38.0->librosa>=0.6.1->Resemblyzer) (0.31.0)\n"
          ],
          "name": "stdout"
        }
      ]
    },
    {
      "cell_type": "code",
      "metadata": {
        "colab": {
          "base_uri": "https://localhost:8080/"
        },
        "id": "drvQFQCcqYRu",
        "outputId": "a2dcc692-b6e7-4d67-e4ba-410a9be0bc8b"
      },
      "source": [
        "#Code to convert file to .wav\r\n",
        "!pip install pydub"
      ],
      "execution_count": null,
      "outputs": [
        {
          "output_type": "stream",
          "text": [
            "Collecting pydub\n",
            "  Downloading https://files.pythonhosted.org/packages/7b/d1/fbfa79371a8cd9bb15c2e3c480d7e6e340ed5cc55005174e16f48418333a/pydub-0.24.1-py2.py3-none-any.whl\n",
            "Installing collected packages: pydub\n",
            "Successfully installed pydub-0.24.1\n"
          ],
          "name": "stdout"
        }
      ]
    },
    {
      "cell_type": "code",
      "metadata": {
        "colab": {
          "base_uri": "https://localhost:8080/"
        },
        "id": "B95j7ulPq7_V",
        "outputId": "eadca2c9-e81a-4263-9e65-e2bbd8996c6c"
      },
      "source": [
        "!pip3 install spectralcluster"
      ],
      "execution_count": null,
      "outputs": [
        {
          "output_type": "stream",
          "text": [
            "Collecting spectralcluster\n",
            "  Downloading https://files.pythonhosted.org/packages/24/a7/12c567ed32165ccaa0a40bd55384958751a2049891c109fb9a1d3996e7a0/spectralcluster-0.1.0-py3-none-any.whl\n",
            "Installing collected packages: spectralcluster\n",
            "Successfully installed spectralcluster-0.1.0\n"
          ],
          "name": "stdout"
        }
      ]
    },
    {
      "cell_type": "code",
      "metadata": {
        "colab": {
          "base_uri": "https://localhost:8080/"
        },
        "id": "YHp035BFqi4e",
        "outputId": "8ae36537-cb29-44b1-8ae5-0877be2c808a"
      },
      "source": [
        "from pydub import AudioSegment\r\n",
        "\r\n",
        "def mp3_to_wav(audio_file_path):\r\n",
        "    sound = AudioSegment.from_mp3(audio_file_path)\r\n",
        "    audio_file_path = audio_file_path.split('.')[0] + '.wav'\r\n",
        "    sound.export(audio_file_path, format=\"wav\")\r\n",
        "    return audio_file_path\r\n",
        "\r\n",
        "audio_file_path = mp3_to_wav('/content/test audio.mp3')\r\n",
        "print(audio_file_path)"
      ],
      "execution_count": null,
      "outputs": [
        {
          "output_type": "stream",
          "text": [
            "/content/test audio.wav\n"
          ],
          "name": "stdout"
        }
      ]
    },
    {
      "cell_type": "code",
      "metadata": {
        "colab": {
          "base_uri": "https://localhost:8080/"
        },
        "id": "uJUXghuSpq-v",
        "outputId": "84cefef4-d191-4410-eca0-651fa9c4330c"
      },
      "source": [
        "from resemblyzer import preprocess_wav, VoiceEncoder\r\n",
        "from pathlib import Path\r\n",
        "\r\n",
        "#give the file path to your audio file\r\n",
        "audio_file_path = '/content/test audio.wav'\r\n",
        "wav_fpath = Path(audio_file_path)\r\n",
        "\r\n",
        "wav = preprocess_wav(wav_fpath)\r\n",
        "encoder = VoiceEncoder(\"cpu\")\r\n",
        "_, cont_embeds, wav_splits = encoder.embed_utterance(wav, return_partials=True, rate=16)\r\n",
        "print(cont_embeds.shape)"
      ],
      "execution_count": null,
      "outputs": [
        {
          "output_type": "stream",
          "text": [
            "Loaded the voice encoder model on cpu in 0.03 seconds.\n",
            "(1160, 256)\n"
          ],
          "name": "stdout"
        }
      ]
    },
    {
      "cell_type": "code",
      "metadata": {
        "colab": {
          "base_uri": "https://localhost:8080/"
        },
        "id": "Qb9VmnXwrBVW",
        "outputId": "3215b09d-e78d-42c7-f5e2-2e7071ac64c7"
      },
      "source": [
        "from spectralcluster import SpectralClusterer\r\n",
        "\r\n",
        "clusterer = SpectralClusterer(\r\n",
        "    min_clusters=2,\r\n",
        "    max_clusters=100,\r\n",
        "    p_percentile=0.90,\r\n",
        "    gaussian_blur_sigma=1)\r\n",
        "\r\n",
        "labels = clusterer.predict(cont_embeds)\r\n",
        "print(labels)"
      ],
      "execution_count": null,
      "outputs": [
        {
          "output_type": "stream",
          "text": [
            "[0 0 0 ... 0 0 0]\n"
          ],
          "name": "stdout"
        }
      ]
    },
    {
      "cell_type": "code",
      "metadata": {
        "colab": {
          "base_uri": "https://localhost:8080/"
        },
        "id": "nfDXyc-9rFhS",
        "outputId": "8ebcc0cd-e566-4d6a-f114-2af323a765dd"
      },
      "source": [
        "from resemblyzer.audio import sampling_rate\r\n",
        "\r\n",
        "def create_labelling(labels,wav_splits):\r\n",
        "    times = [((s.start + s.stop) / 2) / sampling_rate for s in wav_splits]\r\n",
        "    labelling = []\r\n",
        "    start_time = 0\r\n",
        "\r\n",
        "    for i,time in enumerate(times):\r\n",
        "        if i>0 and labels[i]!=labels[i-1]:\r\n",
        "            temp = [str(labels[i-1]),start_time,time]\r\n",
        "            labelling.append(tuple(temp))\r\n",
        "            start_time = time\r\n",
        "        if i==len(times)-1:\r\n",
        "            temp = [str(labels[i]),start_time,time]\r\n",
        "            labelling.append(tuple(temp))\r\n",
        "\r\n",
        "    return labelling\r\n",
        "  \r\n",
        "labelling = create_labelling(labels,wav_splits)\r\n",
        "print(labelling)\r\n"
      ],
      "execution_count": null,
      "outputs": [
        {
          "output_type": "stream",
          "text": [
            "[('0', 0, 6.08), ('1', 6.08, 7.64), ('0', 7.64, 9.02), ('1', 9.02, 11.42), ('0', 11.42, 23.24), ('1', 23.24, 24.08), ('0', 24.08, 26.06), ('1', 26.06, 26.18), ('0', 26.18, 44.42), ('1', 44.42, 45.08), ('0', 45.08, 47.96), ('1', 47.96, 48.38), ('0', 48.38, 50.48), ('1', 50.48, 50.54), ('0', 50.54, 50.6), ('1', 50.6, 50.9), ('0', 50.9, 58.04), ('1', 58.04, 59.72), ('0', 59.72, 61.22), ('1', 61.22, 62.72), ('0', 62.72, 70.34)]\n"
          ],
          "name": "stdout"
        }
      ]
    }
  ]
}